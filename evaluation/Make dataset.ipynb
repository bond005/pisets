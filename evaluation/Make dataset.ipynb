{
 "cells": [
  {
   "cell_type": "code",
   "execution_count": 1,
   "metadata": {},
   "outputs": [],
   "source": [
    "import json\n",
    "from pathlib import Path\n",
    "from itertools import combinations\n",
    "from typing import Any\n",
    "\n",
    "import pandas as pd\n",
    "import numpy as np\n",
    "import torch\n",
    "from transformers import (\n",
    "    AutoModelWithLMHead, AutoTokenizer, pipeline, Pipeline,\n",
    "    WhisperProcessor, WhisperForConditionalGeneration\n",
    ")\n",
    "import pysrt\n",
    "from IPython.display import clear_output\n",
    "import IPython.display\n",
    "import librosa\n",
    "\n",
    "from asr.asr import (\n",
    "    initialize_model_for_speech_segmentation, initialize_model_for_speech_classification,\n",
    "    initialize_model_for_speech_recognition\n",
    ")\n",
    "from asr.comparison import MultipleTextsAlignment, filter_correction_suggestions"
   ]
  },
  {
   "cell_type": "code",
   "execution_count": 2,
   "metadata": {},
   "outputs": [
    {
     "name": "stdout",
     "output_type": "stream",
     "text": [
      "/home/oleg/pisets_test_set\n"
     ]
    },
    {
     "name": "stderr",
     "output_type": "stream",
     "text": [
      "/home/oleg/pisets/venv/lib/python3.12/site-packages/IPython/core/magics/osm.py:417: UserWarning: This is now an optional IPython functionality, setting dhist requires you to install the `pickleshare` library.\n",
      "  self.shell.db['dhist'] = compress_dhist(dhist)[-100:]\n"
     ]
    }
   ],
   "source": [
    "%cd ../pisets_test_set"
   ]
  },
  {
   "cell_type": "code",
   "execution_count": null,
   "metadata": {},
   "outputs": [],
   "source": [
    "# import pysrt\n",
    "\n",
    "# for name in ['galore', 'tuberculosis']:\n",
    "#     truth = ' '.join([sub.text for sub in pysrt.open(name + '.srt')])\n",
    "#     with open(name + '.txt', 'w') as f:\n",
    "#         f.write(truth)"
   ]
  },
  {
   "cell_type": "code",
   "execution_count": null,
   "metadata": {},
   "outputs": [],
   "source": [
    "import librosa\n",
    "from tqdm.auto import tqdm\n",
    "from datasets import Dataset, Audio\n",
    "\n",
    "metainfo = {\n",
    "    'zaliznyak': {'noise': 'reverberation, background speech', 'domain': 'philology'},\n",
    "    'harvard': {'noise': 'background speech', 'domain': 'philosophy'},\n",
    "    'savvateev': {'noise': 'reverberation, background speech', 'domain': 'mathematics'},\n",
    "    'zhirinovsky': {'noise': 'reverberation, background speech', 'domain': 'politics'},\n",
    "    'lankov': {'noise': 'reverberation, background speech', 'domain': 'history'},\n",
    "    'kolodezev': {'noise': 'unknown (TODO)', 'domain': 'machine learning'},\n",
    "    'tuberculosis': {'noise': 'unknown (TODO)', 'domain': 'medicine'},\n",
    "}\n",
    "\n",
    "samples = []\n",
    "\n",
    "for name in tqdm(metainfo):\n",
    "    waveform, _ = librosa.load(f'{name}.wav', sr=16_000)\n",
    "    with open(f'{name}.txt') as f:\n",
    "        transcription = f.read()\n",
    "\n",
    "    samples.append({\n",
    "        'name': name,\n",
    "        'audio': {'array': waveform, 'sampling_rate': 16_000},\n",
    "        'transcription': transcription,\n",
    "        **metainfo[name],\n",
    "    })\n",
    "\n",
    "dataset = Dataset.from_list(samples) #.cast_column(\"audio\", Audio(decode=False))"
   ]
  },
  {
   "cell_type": "code",
   "execution_count": null,
   "metadata": {},
   "outputs": [],
   "source": [
    "# https://github.com/huggingface/datasets/issues/6703#issuecomment-1974761165\n",
    "dataset.to_parquet('long_audio_youtube_dataset/data.parquet')"
   ]
  },
  {
   "cell_type": "code",
   "execution_count": 5,
   "metadata": {},
   "outputs": [
    {
     "data": {
      "text/plain": [
       "DatasetDict({\n",
       "    train: Dataset({\n",
       "        features: ['name', 'audio', 'transcription', 'noise', 'domain'],\n",
       "        num_rows: 7\n",
       "    })\n",
       "})"
      ]
     },
     "execution_count": 5,
     "metadata": {},
     "output_type": "execute_result"
    }
   ],
   "source": [
    "from datasets import load_dataset\n",
    "dataset = load_dataset('long_audio_youtube_dataset')\n",
    "dataset"
   ]
  },
  {
   "cell_type": "code",
   "execution_count": 10,
   "metadata": {},
   "outputs": [
    {
     "data": {
      "text/plain": [
       "{'path': None,\n",
       " 'array': array([0.00042725, 0.00112915, 0.00146484, ..., 0.00222778, 0.00164795,\n",
       "        0.00262451]),\n",
       " 'sampling_rate': 16000}"
      ]
     },
     "execution_count": 10,
     "metadata": {},
     "output_type": "execute_result"
    }
   ],
   "source": [
    "from datasets import Audio\n",
    "\n",
    "dataset.cast_column(\"audio\", Audio(sampling_rate=16_000))['train'][0]['audio']"
   ]
  },
  {
   "cell_type": "code",
   "execution_count": null,
   "metadata": {},
   "outputs": [],
   "source": []
  }
 ],
 "metadata": {
  "kernelspec": {
   "display_name": "venv",
   "language": "python",
   "name": "python3"
  },
  "language_info": {
   "codemirror_mode": {
    "name": "ipython",
    "version": 3
   },
   "file_extension": ".py",
   "mimetype": "text/x-python",
   "name": "python",
   "nbconvert_exporter": "python",
   "pygments_lexer": "ipython3",
   "version": "3.12.3"
  }
 },
 "nbformat": 4,
 "nbformat_minor": 2
}
